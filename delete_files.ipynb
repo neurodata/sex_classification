{
 "cells": [
  {
   "cell_type": "code",
   "execution_count": 1,
   "id": "9c50c4bd-eda4-4ee9-80e8-c97dd27bb430",
   "metadata": {},
   "outputs": [],
   "source": [
    "import os\n",
    "import glob\n",
    "import time"
   ]
  },
  {
   "cell_type": "code",
   "execution_count": 19,
   "id": "81fd7ac5-af6d-4cfa-a54b-9a08768ae481",
   "metadata": {},
   "outputs": [],
   "source": [
    "path = '/Users/jayantadey/preprocessed/data_MRI/'\n",
    "subjects = os.listdir(path)\n",
    "\n",
    "for subject in subjects:\n",
    "    current_file = os.path.join(path, subject)\n",
    "    #print(current_file)\n",
    "    for file in glob.glob(current_file+'/mri/*'):\n",
    "        if \"mwp1\" not in file and \"mwp2\" not in file:\n",
    "            os.remove(file)\n",
    "#glob.glob('/Users/jayantadey/preprocessed/data_MRI/sub-HBN_CBIC_NDARXC962XNK/mri/*')"
   ]
  },
  {
   "cell_type": "code",
   "execution_count": null,
   "id": "be3fbd9e-a8a5-4e71-8d8f-dbbdc884f83a",
   "metadata": {},
   "outputs": [],
   "source": []
  }
 ],
 "metadata": {
  "kernelspec": {
   "display_name": "Python 3 (ipykernel)",
   "language": "python",
   "name": "python3"
  },
  "language_info": {
   "codemirror_mode": {
    "name": "ipython",
    "version": 3
   },
   "file_extension": ".py",
   "mimetype": "text/x-python",
   "name": "python",
   "nbconvert_exporter": "python",
   "pygments_lexer": "ipython3",
   "version": "3.9.12"
  }
 },
 "nbformat": 4,
 "nbformat_minor": 5
}
