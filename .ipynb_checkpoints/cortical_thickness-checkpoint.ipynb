{
 "cells": [
  {
   "cell_type": "code",
   "execution_count": 147,
   "id": "626de92c-031e-482e-8833-f38687ecc92d",
   "metadata": {},
   "outputs": [],
   "source": [
    "import pandas as pd\n",
    "import matplotlib.pyplot as plt\n",
    "import numpy as np\n",
    "from tqdm import tqdm\n",
    "from sktree import ObliqueRandomForestClassifier, PatchObliqueRandomForestClassifier\n",
    "from sklearn.ensemble import RandomForestClassifier\n",
    "from sklearn.model_selection import train_test_split\n",
    "import nibabel as nb"
   ]
  },
  {
   "cell_type": "code",
   "execution_count": 124,
   "id": "205e977c-230c-49f4-8de2-094770135da4",
   "metadata": {},
   "outputs": [],
   "source": [
    "df = pd.read_excel('Human.parcellated_thickness.xlsx')"
   ]
  },
  {
   "cell_type": "code",
   "execution_count": 125,
   "id": "72ff36da-63c2-4ec8-9110-e2793d511a69",
   "metadata": {},
   "outputs": [
    {
     "data": {
      "text/html": [
       "<div>\n",
       "<style scoped>\n",
       "    .dataframe tbody tr th:only-of-type {\n",
       "        vertical-align: middle;\n",
       "    }\n",
       "\n",
       "    .dataframe tbody tr th {\n",
       "        vertical-align: top;\n",
       "    }\n",
       "\n",
       "    .dataframe thead th {\n",
       "        text-align: right;\n",
       "    }\n",
       "</style>\n",
       "<table border=\"1\" class=\"dataframe\">\n",
       "  <thead>\n",
       "    <tr style=\"text-align: right;\">\n",
       "      <th></th>\n",
       "      <th>Unnamed: 0</th>\n",
       "      <th>sid</th>\n",
       "      <th>Markov.1</th>\n",
       "      <th>Markov.2</th>\n",
       "      <th>Markov.3</th>\n",
       "      <th>Markov.4</th>\n",
       "      <th>Markov.5</th>\n",
       "      <th>Markov.6</th>\n",
       "      <th>Markov.7</th>\n",
       "      <th>Markov.8</th>\n",
       "      <th>...</th>\n",
       "      <th>Schaefer217.191</th>\n",
       "      <th>Schaefer217.192</th>\n",
       "      <th>Schaefer217.193</th>\n",
       "      <th>Schaefer217.194</th>\n",
       "      <th>Schaefer217.195</th>\n",
       "      <th>Schaefer217.196</th>\n",
       "      <th>Schaefer217.197</th>\n",
       "      <th>Schaefer217.198</th>\n",
       "      <th>Schaefer217.199</th>\n",
       "      <th>Schaefer217.200</th>\n",
       "    </tr>\n",
       "  </thead>\n",
       "  <tbody>\n",
       "    <tr>\n",
       "      <th>0</th>\n",
       "      <td>0</td>\n",
       "      <td>sub-OAS30876MRD4592</td>\n",
       "      <td>1.995032</td>\n",
       "      <td>2.203564</td>\n",
       "      <td>1.651978</td>\n",
       "      <td>1.969754</td>\n",
       "      <td>2.603206</td>\n",
       "      <td>2.295727</td>\n",
       "      <td>2.385144</td>\n",
       "      <td>2.719692</td>\n",
       "      <td>...</td>\n",
       "      <td>8.193966</td>\n",
       "      <td>7.736098</td>\n",
       "      <td>7.404804</td>\n",
       "      <td>7.431338</td>\n",
       "      <td>7.541022</td>\n",
       "      <td>7.433447</td>\n",
       "      <td>7.475594</td>\n",
       "      <td>7.460332</td>\n",
       "      <td>7.476401</td>\n",
       "      <td>7.609443</td>\n",
       "    </tr>\n",
       "    <tr>\n",
       "      <th>1</th>\n",
       "      <td>1</td>\n",
       "      <td>sub-HBN_CBIC_NDARXC962XNK</td>\n",
       "      <td>2.557198</td>\n",
       "      <td>2.011555</td>\n",
       "      <td>2.175673</td>\n",
       "      <td>1.863080</td>\n",
       "      <td>2.473705</td>\n",
       "      <td>2.576267</td>\n",
       "      <td>2.392282</td>\n",
       "      <td>2.242582</td>\n",
       "      <td>...</td>\n",
       "      <td>6.927265</td>\n",
       "      <td>7.487809</td>\n",
       "      <td>7.098700</td>\n",
       "      <td>6.753360</td>\n",
       "      <td>6.841211</td>\n",
       "      <td>6.707229</td>\n",
       "      <td>7.189156</td>\n",
       "      <td>6.795299</td>\n",
       "      <td>6.823550</td>\n",
       "      <td>6.533783</td>\n",
       "    </tr>\n",
       "    <tr>\n",
       "      <th>2</th>\n",
       "      <td>2</td>\n",
       "      <td>sub-AOMIC_0770</td>\n",
       "      <td>2.246607</td>\n",
       "      <td>2.295872</td>\n",
       "      <td>1.978412</td>\n",
       "      <td>2.069700</td>\n",
       "      <td>2.213602</td>\n",
       "      <td>2.449572</td>\n",
       "      <td>2.541624</td>\n",
       "      <td>2.777280</td>\n",
       "      <td>...</td>\n",
       "      <td>8.117053</td>\n",
       "      <td>7.775745</td>\n",
       "      <td>7.608771</td>\n",
       "      <td>7.579930</td>\n",
       "      <td>7.573511</td>\n",
       "      <td>7.607256</td>\n",
       "      <td>7.883723</td>\n",
       "      <td>7.630075</td>\n",
       "      <td>7.670835</td>\n",
       "      <td>7.354955</td>\n",
       "    </tr>\n",
       "    <tr>\n",
       "      <th>3</th>\n",
       "      <td>3</td>\n",
       "      <td>sub-AOMIC_0344</td>\n",
       "      <td>2.219745</td>\n",
       "      <td>2.366237</td>\n",
       "      <td>2.036068</td>\n",
       "      <td>2.173696</td>\n",
       "      <td>2.508847</td>\n",
       "      <td>2.408997</td>\n",
       "      <td>2.430510</td>\n",
       "      <td>2.882698</td>\n",
       "      <td>...</td>\n",
       "      <td>7.908504</td>\n",
       "      <td>7.856069</td>\n",
       "      <td>7.756918</td>\n",
       "      <td>7.526684</td>\n",
       "      <td>7.410575</td>\n",
       "      <td>7.654072</td>\n",
       "      <td>7.952062</td>\n",
       "      <td>7.682724</td>\n",
       "      <td>7.444550</td>\n",
       "      <td>7.697996</td>\n",
       "    </tr>\n",
       "    <tr>\n",
       "      <th>4</th>\n",
       "      <td>4</td>\n",
       "      <td>sub-Narratives_150</td>\n",
       "      <td>2.131236</td>\n",
       "      <td>2.432549</td>\n",
       "      <td>2.066158</td>\n",
       "      <td>2.352589</td>\n",
       "      <td>2.331565</td>\n",
       "      <td>2.799966</td>\n",
       "      <td>2.490590</td>\n",
       "      <td>2.818574</td>\n",
       "      <td>...</td>\n",
       "      <td>8.229232</td>\n",
       "      <td>7.847060</td>\n",
       "      <td>7.821367</td>\n",
       "      <td>7.739102</td>\n",
       "      <td>8.001608</td>\n",
       "      <td>7.803380</td>\n",
       "      <td>7.750091</td>\n",
       "      <td>7.730715</td>\n",
       "      <td>7.858832</td>\n",
       "      <td>7.892026</td>\n",
       "    </tr>\n",
       "  </tbody>\n",
       "</table>\n",
       "<p>5 rows × 384 columns</p>\n",
       "</div>"
      ],
      "text/plain": [
       "   Unnamed: 0                        sid  Markov.1  Markov.2  Markov.3  \\\n",
       "0           0        sub-OAS30876MRD4592  1.995032  2.203564  1.651978   \n",
       "1           1  sub-HBN_CBIC_NDARXC962XNK  2.557198  2.011555  2.175673   \n",
       "2           2             sub-AOMIC_0770  2.246607  2.295872  1.978412   \n",
       "3           3             sub-AOMIC_0344  2.219745  2.366237  2.036068   \n",
       "4           4         sub-Narratives_150  2.131236  2.432549  2.066158   \n",
       "\n",
       "   Markov.4  Markov.5  Markov.6  Markov.7  Markov.8  ...  Schaefer217.191  \\\n",
       "0  1.969754  2.603206  2.295727  2.385144  2.719692  ...         8.193966   \n",
       "1  1.863080  2.473705  2.576267  2.392282  2.242582  ...         6.927265   \n",
       "2  2.069700  2.213602  2.449572  2.541624  2.777280  ...         8.117053   \n",
       "3  2.173696  2.508847  2.408997  2.430510  2.882698  ...         7.908504   \n",
       "4  2.352589  2.331565  2.799966  2.490590  2.818574  ...         8.229232   \n",
       "\n",
       "   Schaefer217.192  Schaefer217.193  Schaefer217.194  Schaefer217.195  \\\n",
       "0         7.736098         7.404804         7.431338         7.541022   \n",
       "1         7.487809         7.098700         6.753360         6.841211   \n",
       "2         7.775745         7.608771         7.579930         7.573511   \n",
       "3         7.856069         7.756918         7.526684         7.410575   \n",
       "4         7.847060         7.821367         7.739102         8.001608   \n",
       "\n",
       "   Schaefer217.196  Schaefer217.197  Schaefer217.198  Schaefer217.199  \\\n",
       "0         7.433447         7.475594         7.460332         7.476401   \n",
       "1         6.707229         7.189156         6.795299         6.823550   \n",
       "2         7.607256         7.883723         7.630075         7.670835   \n",
       "3         7.654072         7.952062         7.682724         7.444550   \n",
       "4         7.803380         7.750091         7.730715         7.858832   \n",
       "\n",
       "   Schaefer217.200  \n",
       "0         7.609443  \n",
       "1         6.533783  \n",
       "2         7.354955  \n",
       "3         7.697996  \n",
       "4         7.892026  \n",
       "\n",
       "[5 rows x 384 columns]"
      ]
     },
     "execution_count": 125,
     "metadata": {},
     "output_type": "execute_result"
    }
   ],
   "source": [
    "df.head()"
   ]
  },
  {
   "cell_type": "code",
   "execution_count": 127,
   "id": "79f09473-1d7c-4be1-93fb-87a260116c68",
   "metadata": {},
   "outputs": [
    {
     "data": {
      "text/html": [
       "<div>\n",
       "<style scoped>\n",
       "    .dataframe tbody tr th:only-of-type {\n",
       "        vertical-align: middle;\n",
       "    }\n",
       "\n",
       "    .dataframe tbody tr th {\n",
       "        vertical-align: top;\n",
       "    }\n",
       "\n",
       "    .dataframe thead th {\n",
       "        text-align: right;\n",
       "    }\n",
       "</style>\n",
       "<table border=\"1\" class=\"dataframe\">\n",
       "  <thead>\n",
       "    <tr style=\"text-align: right;\">\n",
       "      <th></th>\n",
       "      <th>ID</th>\n",
       "      <th>Age</th>\n",
       "      <th>Sex</th>\n",
       "      <th>Dataset</th>\n",
       "      <th>Dataset-ID</th>\n",
       "    </tr>\n",
       "  </thead>\n",
       "  <tbody>\n",
       "    <tr>\n",
       "      <th>0</th>\n",
       "      <td>sub-ABIDE1050339</td>\n",
       "      <td>18.0000</td>\n",
       "      <td>MALE</td>\n",
       "      <td>ABIDE</td>\n",
       "      <td>50339</td>\n",
       "    </tr>\n",
       "    <tr>\n",
       "      <th>1</th>\n",
       "      <td>sub-ABIDE1050701</td>\n",
       "      <td>18.0000</td>\n",
       "      <td>MALE</td>\n",
       "      <td>ABIDE</td>\n",
       "      <td>50701</td>\n",
       "    </tr>\n",
       "    <tr>\n",
       "      <th>2</th>\n",
       "      <td>sub-ABIDE1050445</td>\n",
       "      <td>18.1383</td>\n",
       "      <td>MALE</td>\n",
       "      <td>ABIDE</td>\n",
       "      <td>50445</td>\n",
       "    </tr>\n",
       "    <tr>\n",
       "      <th>3</th>\n",
       "      <td>sub-ABIDE1050459</td>\n",
       "      <td>18.1547</td>\n",
       "      <td>MALE</td>\n",
       "      <td>ABIDE</td>\n",
       "      <td>50459</td>\n",
       "    </tr>\n",
       "    <tr>\n",
       "      <th>4</th>\n",
       "      <td>sub-ABIDE1050341</td>\n",
       "      <td>18.2000</td>\n",
       "      <td>FEMALE</td>\n",
       "      <td>ABIDE</td>\n",
       "      <td>50341</td>\n",
       "    </tr>\n",
       "  </tbody>\n",
       "</table>\n",
       "</div>"
      ],
      "text/plain": [
       "                 ID      Age     Sex Dataset Dataset-ID\n",
       "0  sub-ABIDE1050339  18.0000    MALE   ABIDE      50339\n",
       "1  sub-ABIDE1050701  18.0000    MALE   ABIDE      50701\n",
       "2  sub-ABIDE1050445  18.1383    MALE   ABIDE      50445\n",
       "3  sub-ABIDE1050459  18.1547    MALE   ABIDE      50459\n",
       "4  sub-ABIDE1050341  18.2000  FEMALE   ABIDE      50341"
      ]
     },
     "execution_count": 127,
     "metadata": {},
     "output_type": "execute_result"
    }
   ],
   "source": [
    "df_sex = pd.read_excel('~/data_MRI/subjects_age_sex_data_MRI.xlsx')\n",
    "df_sex.head()"
   ]
  },
  {
   "cell_type": "code",
   "execution_count": 128,
   "id": "8a5c96b7-c722-4776-9fd8-746edd3a1e2a",
   "metadata": {},
   "outputs": [
    {
     "name": "stderr",
     "output_type": "stream",
     "text": [
      "100%|█████████████████████████████████████████████████████████████████████████████████████████████████████████████| 14465/14465 [00:32<00:00, 441.35it/s]\n"
     ]
    }
   ],
   "source": [
    "X1 = []\n",
    "X2 = []\n",
    "y = []\n",
    "IDs = set(df['sid'])\n",
    "ref_IDs = set(df_sex['ID'])\n",
    "\n",
    "for subject in tqdm(IDs):\n",
    "    if subject in ref_IDs:\n",
    "        features = np.array(df[df['sid']==subject]).reshape(-1)[2:]\n",
    "        gender = list(df_sex[df_sex['ID']==subject]['Sex'])\n",
    "        sex = int(gender[0]=='FEMALE')\n",
    "             \n",
    "        X1.append(list(features[:182]))\n",
    "        X2.append(list(features[182:]))\n",
    "        y.append(sex)\n",
    "\n",
    "X1 = np.array(X1)\n",
    "X2 = np.array(X2)"
   ]
  },
  {
   "cell_type": "code",
   "execution_count": 129,
   "id": "70fb902e-dd1f-469d-aa77-fc529d2dcb17",
   "metadata": {},
   "outputs": [
    {
     "name": "stdout",
     "output_type": "stream",
     "text": [
      "(10648, 182) (10648, 200)\n"
     ]
    }
   ],
   "source": [
    "print(X1.shape, X2.shape)"
   ]
  },
  {
   "cell_type": "markdown",
   "id": "848eb6fd-3718-4b92-98ba-be171ab0e406",
   "metadata": {},
   "source": [
    "### Try random forest"
   ]
  },
  {
   "cell_type": "code",
   "execution_count": 130,
   "id": "464c2761-da21-441c-a57b-cfde674d1452",
   "metadata": {},
   "outputs": [
    {
     "name": "stderr",
     "output_type": "stream",
     "text": [
      "100%|██████████████████████████████████████████████████████████████████████████████████████████████████████████████████████| 5/5 [00:20<00:00,  4.19s/it]"
     ]
    },
    {
     "name": "stdout",
     "output_type": "stream",
     "text": [
      "Accuracy is  0.7057276995305164\n"
     ]
    },
    {
     "name": "stderr",
     "output_type": "stream",
     "text": [
      "\n"
     ]
    }
   ],
   "source": [
    "reps = 5\n",
    "accuracy = 0.0\n",
    "\n",
    "for ii in tqdm(range(reps)):\n",
    "    x_train, x_test, y_train, y_test = train_test_split(\n",
    "                    X1, y, train_size=0.8, random_state=ii, stratify=y)\n",
    "    clf = RandomForestClassifier(n_estimators=1000, n_jobs=-1)\n",
    "    clf.fit(x_train,y_train)\n",
    "    accuracy += np.mean(clf.predict(x_test)==y_test)\n",
    "\n",
    "print('Accuracy is ',accuracy/reps)"
   ]
  },
  {
   "cell_type": "code",
   "execution_count": 131,
   "id": "4e5553c9-45a5-45fd-a1dd-aea8c29efae2",
   "metadata": {},
   "outputs": [
    {
     "name": "stderr",
     "output_type": "stream",
     "text": [
      "100%|██████████████████████████████████████████████████████████████████████████████████████████████████████████████████████| 5/5 [00:19<00:00,  3.93s/it]"
     ]
    },
    {
     "name": "stdout",
     "output_type": "stream",
     "text": [
      "Accuracy is  0.7063849765258217\n"
     ]
    },
    {
     "name": "stderr",
     "output_type": "stream",
     "text": [
      "\n"
     ]
    }
   ],
   "source": [
    "reps = 5\n",
    "accuracy = 0.0\n",
    "\n",
    "for ii in tqdm(range(reps)):\n",
    "    x_train, x_test, y_train, y_test = train_test_split(\n",
    "                    X1, y, train_size=0.8, random_state=ii, stratify=y)\n",
    "    clf = RandomForestClassifier(n_estimators=1000, n_jobs=-1)\n",
    "    clf.fit(x_train,y_train)\n",
    "    accuracy += np.mean(clf.predict(x_test)==y_test)\n",
    "\n",
    "print('Accuracy is ',accuracy/reps)"
   ]
  },
  {
   "cell_type": "markdown",
   "id": "982c208e-4be2-452d-a8da-412706947044",
   "metadata": {},
   "source": [
    "## Try SPORF"
   ]
  },
  {
   "cell_type": "code",
   "execution_count": 72,
   "id": "3fbb8067-9731-42e0-a032-ab75ad0c6c19",
   "metadata": {},
   "outputs": [
    {
     "name": "stderr",
     "output_type": "stream",
     "text": [
      "100%|███████████████████████████████████████████████████████████████████████████████████████████████████████████████| 5/5 [00:23<00:00,  4.79s/it]"
     ]
    },
    {
     "name": "stdout",
     "output_type": "stream",
     "text": [
      "Accuracy is  0.7112676056338028\n"
     ]
    },
    {
     "name": "stderr",
     "output_type": "stream",
     "text": [
      "\n"
     ]
    }
   ],
   "source": [
    "reps = 5\n",
    "accuracy = 0.0\n",
    "\n",
    "for ii in tqdm(range(reps)):\n",
    "    x_train, x_test, y_train, y_test = train_test_split(\n",
    "                    X1, y, train_size=0.8, random_state=ii, stratify=y)\n",
    "    clf = ObliqueRandomForestClassifier(n_estimators=1000, n_jobs=-1, feature_combinations=2.3)\n",
    "    clf.fit(x_train,y_train)\n",
    "    accuracy += np.mean(clf.predict(x_test)==y_test)\n",
    "\n",
    "print('Accuracy is ',accuracy/reps)"
   ]
  },
  {
   "cell_type": "code",
   "execution_count": 80,
   "id": "25e423e6-9a6b-402d-b941-5adb8cdc50ad",
   "metadata": {},
   "outputs": [
    {
     "name": "stderr",
     "output_type": "stream",
     "text": [
      "100%|███████████████████████████████████████████████████████████████████████████████████████████████████████████████| 5/5 [00:23<00:00,  4.73s/it]"
     ]
    },
    {
     "name": "stdout",
     "output_type": "stream",
     "text": [
      "Accuracy is  0.7070422535211267\n"
     ]
    },
    {
     "name": "stderr",
     "output_type": "stream",
     "text": [
      "\n"
     ]
    }
   ],
   "source": [
    "reps = 5\n",
    "accuracy = 0.0\n",
    "\n",
    "for ii in tqdm(range(reps)):\n",
    "    x_train, x_test, y_train, y_test = train_test_split(\n",
    "                    X2, y, train_size=0.8, random_state=ii, stratify=y)\n",
    "    clf = ObliqueRandomForestClassifier(n_estimators=1000, n_jobs=-1, feature_combinations=1.8)\n",
    "    clf.fit(x_train,y_train)\n",
    "    accuracy += np.mean(clf.predict(x_test)==y_test)\n",
    "\n",
    "print('Accuracy is ',accuracy/reps)"
   ]
  },
  {
   "cell_type": "code",
   "execution_count": 81,
   "id": "fff96dfb-7484-4135-8479-275cb83f2ade",
   "metadata": {},
   "outputs": [
    {
     "data": {
      "text/html": [
       "<div>\n",
       "<style scoped>\n",
       "    .dataframe tbody tr th:only-of-type {\n",
       "        vertical-align: middle;\n",
       "    }\n",
       "\n",
       "    .dataframe tbody tr th {\n",
       "        vertical-align: top;\n",
       "    }\n",
       "\n",
       "    .dataframe thead th {\n",
       "        text-align: right;\n",
       "    }\n",
       "</style>\n",
       "<table border=\"1\" class=\"dataframe\">\n",
       "  <thead>\n",
       "    <tr style=\"text-align: right;\">\n",
       "      <th></th>\n",
       "      <th>Unnamed: 0</th>\n",
       "      <th>participant_id</th>\n",
       "      <th>age</th>\n",
       "      <th>sex</th>\n",
       "      <th>Markov.1</th>\n",
       "      <th>Markov.2</th>\n",
       "      <th>Markov.3</th>\n",
       "      <th>Markov.4</th>\n",
       "      <th>Markov.5</th>\n",
       "      <th>Markov.6</th>\n",
       "      <th>...</th>\n",
       "      <th>Schaefer217.191</th>\n",
       "      <th>Schaefer217.192</th>\n",
       "      <th>Schaefer217.193</th>\n",
       "      <th>Schaefer217.194</th>\n",
       "      <th>Schaefer217.195</th>\n",
       "      <th>Schaefer217.196</th>\n",
       "      <th>Schaefer217.197</th>\n",
       "      <th>Schaefer217.198</th>\n",
       "      <th>Schaefer217.199</th>\n",
       "      <th>Schaefer217.200</th>\n",
       "    </tr>\n",
       "  </thead>\n",
       "  <tbody>\n",
       "    <tr>\n",
       "      <th>0</th>\n",
       "      <td>0</td>\n",
       "      <td>sub-1001</td>\n",
       "      <td>1.756164</td>\n",
       "      <td>M</td>\n",
       "      <td>3.048436</td>\n",
       "      <td>3.908286</td>\n",
       "      <td>3.221595</td>\n",
       "      <td>3.615675</td>\n",
       "      <td>4.662432</td>\n",
       "      <td>3.707754</td>\n",
       "      <td>...</td>\n",
       "      <td>4.231826</td>\n",
       "      <td>4.908868</td>\n",
       "      <td>4.522730</td>\n",
       "      <td>2.294943</td>\n",
       "      <td>2.853976</td>\n",
       "      <td>3.406234</td>\n",
       "      <td>4.261370</td>\n",
       "      <td>4.131977</td>\n",
       "      <td>3.387978</td>\n",
       "      <td>3.451267</td>\n",
       "    </tr>\n",
       "    <tr>\n",
       "      <th>1</th>\n",
       "      <td>1</td>\n",
       "      <td>sub-1002</td>\n",
       "      <td>1.783562</td>\n",
       "      <td>F</td>\n",
       "      <td>3.053520</td>\n",
       "      <td>3.748308</td>\n",
       "      <td>3.043567</td>\n",
       "      <td>3.764927</td>\n",
       "      <td>4.708283</td>\n",
       "      <td>4.060617</td>\n",
       "      <td>...</td>\n",
       "      <td>4.384853</td>\n",
       "      <td>4.849508</td>\n",
       "      <td>4.589500</td>\n",
       "      <td>2.443734</td>\n",
       "      <td>2.855187</td>\n",
       "      <td>3.344378</td>\n",
       "      <td>3.926697</td>\n",
       "      <td>3.477919</td>\n",
       "      <td>2.962553</td>\n",
       "      <td>3.474969</td>\n",
       "    </tr>\n",
       "    <tr>\n",
       "      <th>2</th>\n",
       "      <td>2</td>\n",
       "      <td>sub-1003</td>\n",
       "      <td>1.756164</td>\n",
       "      <td>M</td>\n",
       "      <td>3.211265</td>\n",
       "      <td>4.122524</td>\n",
       "      <td>3.374628</td>\n",
       "      <td>4.022762</td>\n",
       "      <td>4.759439</td>\n",
       "      <td>4.182558</td>\n",
       "      <td>...</td>\n",
       "      <td>4.570739</td>\n",
       "      <td>4.921833</td>\n",
       "      <td>4.770724</td>\n",
       "      <td>3.106145</td>\n",
       "      <td>3.094785</td>\n",
       "      <td>3.350355</td>\n",
       "      <td>4.562199</td>\n",
       "      <td>4.212585</td>\n",
       "      <td>3.582792</td>\n",
       "      <td>3.827813</td>\n",
       "    </tr>\n",
       "    <tr>\n",
       "      <th>3</th>\n",
       "      <td>3</td>\n",
       "      <td>sub-1004</td>\n",
       "      <td>1.756164</td>\n",
       "      <td>M</td>\n",
       "      <td>3.004275</td>\n",
       "      <td>3.681716</td>\n",
       "      <td>3.227427</td>\n",
       "      <td>3.762712</td>\n",
       "      <td>4.555942</td>\n",
       "      <td>3.984013</td>\n",
       "      <td>...</td>\n",
       "      <td>4.264869</td>\n",
       "      <td>4.935628</td>\n",
       "      <td>4.505048</td>\n",
       "      <td>3.337418</td>\n",
       "      <td>2.892611</td>\n",
       "      <td>3.690076</td>\n",
       "      <td>4.095378</td>\n",
       "      <td>4.328465</td>\n",
       "      <td>3.763171</td>\n",
       "      <td>3.758017</td>\n",
       "    </tr>\n",
       "    <tr>\n",
       "      <th>4</th>\n",
       "      <td>4</td>\n",
       "      <td>sub-1005</td>\n",
       "      <td>1.742466</td>\n",
       "      <td>M</td>\n",
       "      <td>2.868796</td>\n",
       "      <td>3.837011</td>\n",
       "      <td>2.997172</td>\n",
       "      <td>3.724171</td>\n",
       "      <td>4.537298</td>\n",
       "      <td>3.816082</td>\n",
       "      <td>...</td>\n",
       "      <td>4.154663</td>\n",
       "      <td>4.817727</td>\n",
       "      <td>4.695378</td>\n",
       "      <td>3.965287</td>\n",
       "      <td>3.219764</td>\n",
       "      <td>3.268439</td>\n",
       "      <td>4.115168</td>\n",
       "      <td>3.889531</td>\n",
       "      <td>3.271547</td>\n",
       "      <td>4.040183</td>\n",
       "    </tr>\n",
       "  </tbody>\n",
       "</table>\n",
       "<p>5 rows × 386 columns</p>\n",
       "</div>"
      ],
      "text/plain": [
       "   Unnamed: 0 participant_id       age sex  Markov.1  Markov.2  Markov.3  \\\n",
       "0           0       sub-1001  1.756164   M  3.048436  3.908286  3.221595   \n",
       "1           1       sub-1002  1.783562   F  3.053520  3.748308  3.043567   \n",
       "2           2       sub-1003  1.756164   M  3.211265  4.122524  3.374628   \n",
       "3           3       sub-1004  1.756164   M  3.004275  3.681716  3.227427   \n",
       "4           4       sub-1005  1.742466   M  2.868796  3.837011  2.997172   \n",
       "\n",
       "   Markov.4  Markov.5  Markov.6  ...  Schaefer217.191  Schaefer217.192  \\\n",
       "0  3.615675  4.662432  3.707754  ...         4.231826         4.908868   \n",
       "1  3.764927  4.708283  4.060617  ...         4.384853         4.849508   \n",
       "2  4.022762  4.759439  4.182558  ...         4.570739         4.921833   \n",
       "3  3.762712  4.555942  3.984013  ...         4.264869         4.935628   \n",
       "4  3.724171  4.537298  3.816082  ...         4.154663         4.817727   \n",
       "\n",
       "   Schaefer217.193  Schaefer217.194  Schaefer217.195  Schaefer217.196  \\\n",
       "0         4.522730         2.294943         2.853976         3.406234   \n",
       "1         4.589500         2.443734         2.855187         3.344378   \n",
       "2         4.770724         3.106145         3.094785         3.350355   \n",
       "3         4.505048         3.337418         2.892611         3.690076   \n",
       "4         4.695378         3.965287         3.219764         3.268439   \n",
       "\n",
       "   Schaefer217.197  Schaefer217.198  Schaefer217.199  Schaefer217.200  \n",
       "0         4.261370         4.131977         3.387978         3.451267  \n",
       "1         3.926697         3.477919         2.962553         3.474969  \n",
       "2         4.562199         4.212585         3.582792         3.827813  \n",
       "3         4.095378         4.328465         3.763171         3.758017  \n",
       "4         4.115168         3.889531         3.271547         4.040183  \n",
       "\n",
       "[5 rows x 386 columns]"
      ]
     },
     "execution_count": 81,
     "metadata": {},
     "output_type": "execute_result"
    }
   ],
   "source": [
    "df = pd.read_excel('Macaque.parcellated_thickness.xlsx')\n",
    "df.head()"
   ]
  },
  {
   "cell_type": "code",
   "execution_count": 82,
   "id": "939c47d8-09b4-476d-827d-967f87dd65d1",
   "metadata": {},
   "outputs": [
    {
     "data": {
      "text/html": [
       "<div>\n",
       "<style scoped>\n",
       "    .dataframe tbody tr th:only-of-type {\n",
       "        vertical-align: middle;\n",
       "    }\n",
       "\n",
       "    .dataframe tbody tr th {\n",
       "        vertical-align: top;\n",
       "    }\n",
       "\n",
       "    .dataframe thead th {\n",
       "        text-align: right;\n",
       "    }\n",
       "</style>\n",
       "<table border=\"1\" class=\"dataframe\">\n",
       "  <thead>\n",
       "    <tr style=\"text-align: right;\">\n",
       "      <th></th>\n",
       "      <th>participant_id</th>\n",
       "      <th>age</th>\n",
       "      <th>sex</th>\n",
       "    </tr>\n",
       "  </thead>\n",
       "  <tbody>\n",
       "    <tr>\n",
       "      <th>0</th>\n",
       "      <td>sub-1001</td>\n",
       "      <td>1.756164</td>\n",
       "      <td>M</td>\n",
       "    </tr>\n",
       "    <tr>\n",
       "      <th>1</th>\n",
       "      <td>sub-1002</td>\n",
       "      <td>1.783562</td>\n",
       "      <td>F</td>\n",
       "    </tr>\n",
       "    <tr>\n",
       "      <th>2</th>\n",
       "      <td>sub-1003</td>\n",
       "      <td>1.756164</td>\n",
       "      <td>M</td>\n",
       "    </tr>\n",
       "    <tr>\n",
       "      <th>3</th>\n",
       "      <td>sub-1004</td>\n",
       "      <td>1.756164</td>\n",
       "      <td>M</td>\n",
       "    </tr>\n",
       "    <tr>\n",
       "      <th>4</th>\n",
       "      <td>sub-1005</td>\n",
       "      <td>1.742466</td>\n",
       "      <td>M</td>\n",
       "    </tr>\n",
       "  </tbody>\n",
       "</table>\n",
       "</div>"
      ],
      "text/plain": [
       "  participant_id       age sex\n",
       "0       sub-1001  1.756164   M\n",
       "1       sub-1002  1.783562   F\n",
       "2       sub-1003  1.756164   M\n",
       "3       sub-1004  1.756164   M\n",
       "4       sub-1005  1.742466   M"
      ]
     },
     "execution_count": 82,
     "metadata": {},
     "output_type": "execute_result"
    }
   ],
   "source": [
    "df_sex = pd.read_csv('~/spmmouse_segment/uwmadison.csv')\n",
    "df_sex.head()"
   ]
  },
  {
   "cell_type": "code",
   "execution_count": 103,
   "id": "217af12b-5540-4fb9-af5b-99546e535008",
   "metadata": {},
   "outputs": [
    {
     "name": "stderr",
     "output_type": "stream",
     "text": [
      "100%|████████████████████████████████████████████████████████████████████████████████████████████████████████████████| 592/592 [00:00<00:00, 1329.79it/s]\n"
     ]
    }
   ],
   "source": [
    "X1 = []\n",
    "X2 = []\n",
    "y = []\n",
    "IDs = set(df['participant_id'])\n",
    "ref_IDs = set(df_sex['participant_id'])\n",
    "\n",
    "for subject in tqdm(IDs):\n",
    "    if subject in ref_IDs:\n",
    "        features = np.array(df[df['participant_id']==subject]).reshape(-1)[4:]\n",
    "        gender = list(df_sex[df_sex['participant_id']==subject]['sex'])\n",
    "        sex = int(gender[0]=='F')\n",
    "             \n",
    "        X1.append(list(features[:182]))\n",
    "        X2.append(list(features[182:]))\n",
    "        y.append(sex)\n",
    "\n",
    "X1 = np.array(X1)\n",
    "X2 = np.array(X2)"
   ]
  },
  {
   "cell_type": "code",
   "execution_count": 104,
   "id": "d26412ad-dbe8-49c8-8edf-ec7bf1e14155",
   "metadata": {},
   "outputs": [
    {
     "name": "stdout",
     "output_type": "stream",
     "text": [
      "(592, 182) (592, 200)\n"
     ]
    }
   ],
   "source": [
    "print(X1.shape, X2.shape)"
   ]
  },
  {
   "cell_type": "markdown",
   "id": "762d5800-2d5c-4429-bb1f-5df61ffcc51a",
   "metadata": {},
   "source": [
    "### Try random forest"
   ]
  },
  {
   "cell_type": "code",
   "execution_count": 106,
   "id": "05b5d0e3-3bb4-4d44-a3c4-a01334e96899",
   "metadata": {},
   "outputs": [
    {
     "name": "stderr",
     "output_type": "stream",
     "text": [
      "100%|██████████████████████████████████████████████████████████████████████████████████████████████████████████████████████| 5/5 [00:09<00:00,  1.85s/it]"
     ]
    },
    {
     "name": "stdout",
     "output_type": "stream",
     "text": [
      "Accuracy is  0.6453781512605041\n"
     ]
    },
    {
     "name": "stderr",
     "output_type": "stream",
     "text": [
      "\n"
     ]
    }
   ],
   "source": [
    "reps = 5\n",
    "accuracy = 0.0\n",
    "\n",
    "for ii in tqdm(range(reps)):\n",
    "    x_train, x_test, y_train, y_test = train_test_split(\n",
    "                    X1, y, train_size=0.8, random_state=ii, stratify=y)\n",
    "    clf = RandomForestClassifier(n_estimators=1000, n_jobs=-1)\n",
    "    clf.fit(x_train,y_train)\n",
    "    accuracy += np.mean(clf.predict(x_test)==y_test)\n",
    "\n",
    "print('Accuracy is ',accuracy/reps)"
   ]
  },
  {
   "cell_type": "code",
   "execution_count": 107,
   "id": "733c24a0-6055-49ae-bfd6-7a55964c0116",
   "metadata": {},
   "outputs": [
    {
     "name": "stderr",
     "output_type": "stream",
     "text": [
      "100%|██████████████████████████████████████████████████████████████████████████████████████████████████████████████████████| 5/5 [00:09<00:00,  1.94s/it]"
     ]
    },
    {
     "name": "stdout",
     "output_type": "stream",
     "text": [
      "Accuracy is  0.6504201680672269\n"
     ]
    },
    {
     "name": "stderr",
     "output_type": "stream",
     "text": [
      "\n"
     ]
    }
   ],
   "source": [
    "reps = 5\n",
    "accuracy = 0.0\n",
    "\n",
    "for ii in tqdm(range(reps)):\n",
    "    x_train, x_test, y_train, y_test = train_test_split(\n",
    "                    X1, y, train_size=0.8, random_state=ii, stratify=y)\n",
    "    clf = RandomForestClassifier(n_estimators=1000, n_jobs=-1)\n",
    "    clf.fit(x_train,y_train)\n",
    "    accuracy += np.mean(clf.predict(x_test)==y_test)\n",
    "\n",
    "print('Accuracy is ',accuracy/reps)"
   ]
  },
  {
   "cell_type": "markdown",
   "id": "65b1a923-42f0-4898-aa6b-4fb91105e88e",
   "metadata": {},
   "source": [
    "### Try SPORF"
   ]
  },
  {
   "cell_type": "code",
   "execution_count": 115,
   "id": "f57bbb90-569f-4a18-ae33-ba90861585cf",
   "metadata": {},
   "outputs": [
    {
     "name": "stderr",
     "output_type": "stream",
     "text": [
      "100%|██████████████████████████████████████████████████████████████████████████████████████████████████████████████████████| 5/5 [00:10<00:00,  2.02s/it]"
     ]
    },
    {
     "name": "stdout",
     "output_type": "stream",
     "text": [
      "Accuracy is  0.6420168067226891\n"
     ]
    },
    {
     "name": "stderr",
     "output_type": "stream",
     "text": [
      "\n"
     ]
    }
   ],
   "source": [
    "reps = 5\n",
    "accuracy = 0.0\n",
    "\n",
    "for ii in tqdm(range(reps)):\n",
    "    x_train, x_test, y_train, y_test = train_test_split(\n",
    "                    X1, y, train_size=0.8, random_state=ii, stratify=y)\n",
    "    clf = ObliqueRandomForestClassifier(n_estimators=1000, n_jobs=-1, feature_combinations=1.8)\n",
    "    clf.fit(x_train,y_train)\n",
    "    accuracy += np.mean(clf.predict(x_test)==y_test)\n",
    "\n",
    "print('Accuracy is ',accuracy/reps)"
   ]
  },
  {
   "cell_type": "code",
   "execution_count": 121,
   "id": "672f0d12-5d3e-4265-aec2-3e246c2c6b77",
   "metadata": {},
   "outputs": [
    {
     "name": "stderr",
     "output_type": "stream",
     "text": [
      "100%|██████████████████████████████████████████████████████████████████████████████████████████████████████████████████████| 5/5 [00:10<00:00,  2.00s/it]"
     ]
    },
    {
     "name": "stdout",
     "output_type": "stream",
     "text": [
      "Accuracy is  0.6084388185654009\n"
     ]
    },
    {
     "name": "stderr",
     "output_type": "stream",
     "text": [
      "\n"
     ]
    }
   ],
   "source": [
    "reps = 5\n",
    "accuracy = 0.0\n",
    "\n",
    "for ii in tqdm(range(reps)):\n",
    "    x_train, x_test, y_train, y_test = train_test_split(\n",
    "                    X2, y, train_size=0.6, random_state=ii, stratify=y)\n",
    "    clf = ObliqueRandomForestClassifier(n_estimators=1000, n_jobs=-1, feature_combinations=1.8)\n",
    "    clf.fit(x_train,y_train)\n",
    "    accuracy += np.mean(clf.predict(x_test)==y_test)\n",
    "\n",
    "print('Accuracy is ',accuracy/reps)"
   ]
  },
  {
   "cell_type": "code",
   "execution_count": 132,
   "id": "5bb8c3c1-a1ca-4758-9971-8096ef238fc5",
   "metadata": {},
   "outputs": [],
   "source": [
    "import pickle"
   ]
  },
  {
   "cell_type": "code",
   "execution_count": 185,
   "id": "cfb69260-0489-4a6a-a652-465654e5d1a4",
   "metadata": {},
   "outputs": [],
   "source": [
    "with open('feature_imp_gray_pval.pickle', 'rb') as f:\n",
    "    p = pickle.load(f)"
   ]
  },
  {
   "cell_type": "code",
   "execution_count": 186,
   "id": "a812dac7-c29b-475b-9c89-9ec7dc04a3b3",
   "metadata": {},
   "outputs": [
    {
     "data": {
      "text/plain": [
       "<matplotlib.image.AxesImage at 0x7b554f329dc0>"
      ]
     },
     "execution_count": 186,
     "metadata": {},
     "output_type": "execute_result"
    },
    {
     "data": {
      "image/png": "[encoded data removed]",
      "text/plain": [
       "<Figure size 800x800 with 1 Axes>"
      ]
     },
     "metadata": {},
     "output_type": "display_data"
    }
   ],
   "source": [
    "idx = np.where(p>=1e-4)[0]\n",
    "p[idx] = 1\n",
    "slice = 37\n",
    "\n",
    "img_gray = -np.log(p).reshape(113,137,113)\n",
    "sliced_img_graymatter = img_gray[:,:,slice]\n",
    "\n",
    "fig, ax = plt.subplots(1,1, figsize=(8,8))\n",
    "ax.imshow(sliced_img_graymatter)"
   ]
  },
  {
   "cell_type": "code",
   "execution_count": 184,
   "id": "20dc9fea-d330-4d5f-9bf3-64d5f20fb4b8",
   "metadata": {},
   "outputs": [],
   "source": [
    "demo_filepath_whitematter = '/cis/home/jdey4/data_MRI/sub-A00008326/mri/mwp1sub-A00008326_T1w.nii'\n",
    "img_demo = nb.load(demo_filepath_whitematter)\n",
    "img_gray_to_save = nb.Nifti1Image(img_gray, header = img_demo.header, affine = img_demo.affine)\n",
    "\n",
    "nb.save(img_gray_to_save, 'feature_imp_gray_rank.nii')"
   ]
  },
  {
   "cell_type": "code",
   "execution_count": 183,
   "id": "4dec11fc-a1b6-4e90-95f0-9e66568fc6e3",
   "metadata": {},
   "outputs": [
    {
     "data": {
      "text/plain": [
       "(array([3.140000e+02, 0.000000e+00, 0.000000e+00, 0.000000e+00,\n",
       "        0.000000e+00, 0.000000e+00, 0.000000e+00, 0.000000e+00,\n",
       "        0.000000e+00, 1.749039e+06]),\n",
       " array([9.98901209e-05, 1.00089901e-01, 2.00079912e-01, 3.00069923e-01,\n",
       "        4.00059934e-01, 5.00049945e-01, 6.00039956e-01, 7.00029967e-01,\n",
       "        8.00019978e-01, 9.00009989e-01, 1.00000000e+00]),\n",
       " <BarContainer object of 10 artists>)"
      ]
     },
     "execution_count": 183,
     "metadata": {},
     "output_type": "execute_result"
    },
    {
     "data": {
      "image/png": "[encoded data removed]",
      "text/plain": [
       "<Figure size 640x480 with 1 Axes>"
      ]
     },
     "metadata": {},
     "output_type": "display_data"
    }
   ],
   "source": [
    "plt.hist(p)"
   ]
  },
  {
   "cell_type": "code",
   "execution_count": null,
   "id": "0a109195-110f-4dc7-b221-12c20b304339",
   "metadata": {},
   "outputs": [],
   "source": []
  }
 ],
 "metadata": {
  "kernelspec": {
   "display_name": "Python 3 (ipykernel)",
   "language": "python",
   "name": "python3"
  },
  "language_info": {
   "codemirror_mode": {
    "name": "ipython",
    "version": 3
   },
   "file_extension": ".py",
   "mimetype": "text/x-python",
   "name": "python",
   "nbconvert_exporter": "python",
   "pygments_lexer": "ipython3",
   "version": "3.9.15"
  }
 },
 "nbformat": 4,
 "nbformat_minor": 5
}
