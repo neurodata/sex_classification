{
 "cells": [
  {
   "cell_type": "code",
   "execution_count": 2,
   "id": "f31ffdc9",
   "metadata": {},
   "outputs": [],
   "source": [
    "import pandas as  pd\n",
    "import nibabel as nb\n",
    "import numpy as np\n",
    "import matplotlib.pyplot as plt\n",
    "import os\n",
    "import glob\n",
    "from sklearn.ensemble import RandomForestClassifier\n",
    "from sktree import ObliqueRandomForestClassifier, PatchObliqueRandomForestClassifier\n",
    "from tqdm import tqdm\n",
    "from sklearn.model_selection import train_test_split\n",
    "import random\n",
    "import pickle\n",
    "import scipy.stats as ss"
   ]
  },
  {
   "cell_type": "code",
   "execution_count": 3,
   "id": "4edf30a4",
   "metadata": {},
   "outputs": [
    {
     "data": {
      "text/html": [
       "<div>\n",
       "<style scoped>\n",
       "    .dataframe tbody tr th:only-of-type {\n",
       "        vertical-align: middle;\n",
       "    }\n",
       "\n",
       "    .dataframe tbody tr th {\n",
       "        vertical-align: top;\n",
       "    }\n",
       "\n",
       "    .dataframe thead th {\n",
       "        text-align: right;\n",
       "    }\n",
       "</style>\n",
       "<table border=\"1\" class=\"dataframe\">\n",
       "  <thead>\n",
       "    <tr style=\"text-align: right;\">\n",
       "      <th></th>\n",
       "      <th>ID</th>\n",
       "      <th>Age</th>\n",
       "      <th>Sex</th>\n",
       "      <th>Dataset</th>\n",
       "      <th>Dataset-ID</th>\n",
       "    </tr>\n",
       "  </thead>\n",
       "  <tbody>\n",
       "    <tr>\n",
       "      <th>0</th>\n",
       "      <td>sub-ABIDE1050339</td>\n",
       "      <td>18.0000</td>\n",
       "      <td>MALE</td>\n",
       "      <td>ABIDE</td>\n",
       "      <td>50339</td>\n",
       "    </tr>\n",
       "    <tr>\n",
       "      <th>1</th>\n",
       "      <td>sub-ABIDE1050701</td>\n",
       "      <td>18.0000</td>\n",
       "      <td>MALE</td>\n",
       "      <td>ABIDE</td>\n",
       "      <td>50701</td>\n",
       "    </tr>\n",
       "    <tr>\n",
       "      <th>2</th>\n",
       "      <td>sub-ABIDE1050445</td>\n",
       "      <td>18.1383</td>\n",
       "      <td>MALE</td>\n",
       "      <td>ABIDE</td>\n",
       "      <td>50445</td>\n",
       "    </tr>\n",
       "    <tr>\n",
       "      <th>3</th>\n",
       "      <td>sub-ABIDE1050459</td>\n",
       "      <td>18.1547</td>\n",
       "      <td>MALE</td>\n",
       "      <td>ABIDE</td>\n",
       "      <td>50459</td>\n",
       "    </tr>\n",
       "    <tr>\n",
       "      <th>4</th>\n",
       "      <td>sub-ABIDE1050341</td>\n",
       "      <td>18.2000</td>\n",
       "      <td>FEMALE</td>\n",
       "      <td>ABIDE</td>\n",
       "      <td>50341</td>\n",
       "    </tr>\n",
       "  </tbody>\n",
       "</table>\n",
       "</div>"
      ],
      "text/plain": [
       "                 ID      Age     Sex Dataset Dataset-ID\n",
       "0  sub-ABIDE1050339  18.0000    MALE   ABIDE      50339\n",
       "1  sub-ABIDE1050701  18.0000    MALE   ABIDE      50701\n",
       "2  sub-ABIDE1050445  18.1383    MALE   ABIDE      50445\n",
       "3  sub-ABIDE1050459  18.1547    MALE   ABIDE      50459\n",
       "4  sub-ABIDE1050341  18.2000  FEMALE   ABIDE      50341"
      ]
     },
     "execution_count": 3,
     "metadata": {},
     "output_type": "execute_result"
    }
   ],
   "source": [
    "df = pd.read_excel('/cis/home/jdey4/data_MRI/subjects_age_sex_data_MRI.xlsx')\n",
    "df.head()"
   ]
  },
  {
   "cell_type": "code",
   "execution_count": 4,
   "id": "1543ce6a",
   "metadata": {},
   "outputs": [
    {
     "data": {
      "text/html": [
       "<div>\n",
       "<style scoped>\n",
       "    .dataframe tbody tr th:only-of-type {\n",
       "        vertical-align: middle;\n",
       "    }\n",
       "\n",
       "    .dataframe tbody tr th {\n",
       "        vertical-align: top;\n",
       "    }\n",
       "\n",
       "    .dataframe thead th {\n",
       "        text-align: right;\n",
       "    }\n",
       "</style>\n",
       "<table border=\"1\" class=\"dataframe\">\n",
       "  <thead>\n",
       "    <tr style=\"text-align: right;\">\n",
       "      <th></th>\n",
       "      <th>sub</th>\n",
       "      <th>Weighted average (IQR)</th>\n",
       "      <th>Warning</th>\n",
       "    </tr>\n",
       "  </thead>\n",
       "  <tbody>\n",
       "    <tr>\n",
       "      <th>0</th>\n",
       "      <td>sub-A00008326</td>\n",
       "      <td>83.86</td>\n",
       "      <td>0</td>\n",
       "    </tr>\n",
       "    <tr>\n",
       "      <th>1</th>\n",
       "      <td>sub-A00008399</td>\n",
       "      <td>83.3</td>\n",
       "      <td>0</td>\n",
       "    </tr>\n",
       "    <tr>\n",
       "      <th>2</th>\n",
       "      <td>sub-A00010893</td>\n",
       "      <td>78.3</td>\n",
       "      <td>0</td>\n",
       "    </tr>\n",
       "    <tr>\n",
       "      <th>3</th>\n",
       "      <td>sub-A00013809</td>\n",
       "      <td>79.36</td>\n",
       "      <td>0</td>\n",
       "    </tr>\n",
       "    <tr>\n",
       "      <th>4</th>\n",
       "      <td>sub-A00018030</td>\n",
       "      <td>84.05</td>\n",
       "      <td>0</td>\n",
       "    </tr>\n",
       "  </tbody>\n",
       "</table>\n",
       "</div>"
      ],
      "text/plain": [
       "             sub Weighted average (IQR) Warning\n",
       "0  sub-A00008326                  83.86       0\n",
       "1  sub-A00008399                   83.3       0\n",
       "2  sub-A00010893                   78.3       0\n",
       "3  sub-A00013809                  79.36       0\n",
       "4  sub-A00018030                  84.05       0"
      ]
     },
     "execution_count": 4,
     "metadata": {},
     "output_type": "execute_result"
    }
   ],
   "source": [
    "df_quality = pd.read_csv('/cis/home/jdey4/data_MRI/QC_catreport.csv')\n",
    "df_quality.head()"
   ]
  },
  {
   "cell_type": "markdown",
   "id": "361d991e",
   "metadata": {},
   "source": [
    "### Load the mask"
   ]
  },
  {
   "cell_type": "code",
   "execution_count": 4,
   "id": "0cc70a52",
   "metadata": {},
   "outputs": [],
   "source": [
    "mask = nb.load('/cis/home/jdey4/data_MRI/template_cat12/brainmask.nii').get_fdata()"
   ]
  },
  {
   "cell_type": "code",
   "execution_count": 5,
   "id": "c6d9bae2",
   "metadata": {},
   "outputs": [
    {
     "data": {
      "text/plain": [
       "Text(0.5, 1.0, 'Mask (Traverse)')"
      ]
     },
     "execution_count": 5,
     "metadata": {},
     "output_type": "execute_result"
    },
    {
     "data": {
      "image/png": "[encoded data removed]",
      "text/plain": [
       "<Figure size 800x800 with 1 Axes>"
      ]
     },
     "metadata": {},
     "output_type": "display_data"
    }
   ],
   "source": [
    "slice=50\n",
    "sliced_img = mask[:,:,slice]\n",
    "\n",
    "fig, ax = plt.subplots(1,1, figsize=(8,8))\n",
    "ax.imshow(sliced_img)\n",
    "\n",
    "ax.set_title('Mask (Traverse)', fontsize=20)"
   ]
  },
  {
   "cell_type": "code",
   "execution_count": 6,
   "id": "7554a875",
   "metadata": {},
   "outputs": [],
   "source": [
    "idx = np.where(mask.reshape(-1)>0)[0]"
   ]
  },
  {
   "cell_type": "markdown",
   "id": "f34166c4",
   "metadata": {},
   "source": [
    "### Load data and build (feature, label)"
   ]
  },
  {
   "cell_type": "code",
   "execution_count": 7,
   "id": "8d78b2d7",
   "metadata": {},
   "outputs": [
    {
     "name": "stderr",
     "output_type": "stream",
     "text": [
      "100%|█████████████████████████████████████████████████████████| 14471/14471 [20:40<00:00, 11.66it/s]\n"
     ]
    }
   ],
   "source": [
    "path = '/cis/home/jdey4/data_MRI/'\n",
    "subjects = os.listdir(path)\n",
    "X = []\n",
    "y = []\n",
    "file_no = 0\n",
    "IDs = set(df['ID'])\n",
    "quality_ID = set(df_quality['sub'])\n",
    "for subject in tqdm(subjects):\n",
    "    if subject in IDs and subject in quality_ID:\n",
    "        #print(df[df['ID']==subject]['Sex'])\n",
    "        IQR = list(df_quality[df_quality['sub']==subject]['Weighted average (IQR)'])[0]\n",
    "        \n",
    "        if IQR is np.nan:\n",
    "            continue\n",
    "            \n",
    "        if IQR[-1] == '%':\n",
    "            continue\n",
    "        \n",
    "        if float(IQR) < 60:\n",
    "            continue\n",
    "            \n",
    "        gender = list(df[df['ID']==subject]['Sex'])\n",
    "        sex = int(gender[0]=='FEMALE')\n",
    "        \n",
    "        \n",
    "        current_file = os.path.join(path, subject)\n",
    "        tmp = []\n",
    "        save = True\n",
    "        for file in glob.glob(current_file+'/mri/*'):\n",
    "            try:\n",
    "                img = nb.load(file).get_fdata()\n",
    "                file_no += 1\n",
    "                tmp.append(img.reshape(-1))\n",
    "            except:\n",
    "                save = False\n",
    "                print(file,' corrupted')\n",
    "\n",
    "        '''if len(tmp)<2:\n",
    "            print(subject, ' has less files')'''\n",
    "            \n",
    "        if save and len(tmp)==2:\n",
    "            X.append(np.array(tmp).reshape(1,-1))\n",
    "            y.append(sex)\n",
    "    \n",
    "X = np.concatenate(X,axis=0)"
   ]
  },
  {
   "cell_type": "code",
   "execution_count": 8,
   "id": "4ec4c1b0",
   "metadata": {},
   "outputs": [
    {
     "data": {
      "text/plain": [
       "(2206, 3498706)"
      ]
     },
     "execution_count": 8,
     "metadata": {},
     "output_type": "execute_result"
    }
   ],
   "source": [
    "X.shape"
   ]
  },
  {
   "cell_type": "code",
   "execution_count": 9,
   "id": "850679f0-402b-436b-8628-249276cc6fe2",
   "metadata": {},
   "outputs": [
    {
     "data": {
      "text/plain": [
       "0.5485040797824116"
      ]
     },
     "execution_count": 9,
     "metadata": {},
     "output_type": "execute_result"
    }
   ],
   "source": [
    "np.mean(y)"
   ]
  },
  {
   "cell_type": "markdown",
   "id": "813e2522-6f35-4475-a0ff-a7bf71b2761a",
   "metadata": {},
   "source": [
    "## Train MORF"
   ]
  },
  {
   "cell_type": "code",
   "execution_count": 18,
   "id": "c767dc2a-0ad0-46a3-aad5-d6f4ce2940e5",
   "metadata": {},
   "outputs": [
    {
     "name": "stderr",
     "output_type": "stream",
     "text": [
      " 66%|███████████████████████████████▊                | 664/1000 [12:59:53<6:34:38, 70.47s/it]\n"
     ]
    },
    {
     "ename": "KeyboardInterrupt",
     "evalue": "",
     "output_type": "error",
     "traceback": [
      "\u001b[0;31m---------------------------------------------------------------------------\u001b[0m",
      "\u001b[0;31mKeyboardInterrupt\u001b[0m                         Traceback (most recent call last)",
      "Cell \u001b[0;32mIn[18], line 5\u001b[0m\n\u001b[1;32m      2\u001b[0m x_train_, x_test, y_train_, y_test \u001b[38;5;241m=\u001b[39m train_test_split(\n\u001b[1;32m      3\u001b[0m                         X, y, train_size\u001b[38;5;241m=\u001b[39m\u001b[38;5;241m.8\u001b[39m,random_state\u001b[38;5;241m=\u001b[39m\u001b[38;5;241m0\u001b[39m, stratify\u001b[38;5;241m=\u001b[39my)\n\u001b[1;32m      4\u001b[0m \u001b[38;5;28;01mfor\u001b[39;00m ii \u001b[38;5;129;01min\u001b[39;00m tqdm(\u001b[38;5;28mrange\u001b[39m(total_models)):\n\u001b[0;32m----> 5\u001b[0m     x_train, _, y_train, _ \u001b[38;5;241m=\u001b[39m \u001b[43mtrain_test_split\u001b[49m\u001b[43m(\u001b[49m\n\u001b[1;32m      6\u001b[0m \u001b[43m                        \u001b[49m\u001b[43mx_train_\u001b[49m\u001b[43m,\u001b[49m\u001b[43m \u001b[49m\u001b[43my_train_\u001b[49m\u001b[43m,\u001b[49m\u001b[43m \u001b[49m\u001b[43mtrain_size\u001b[49m\u001b[38;5;241;43m=\u001b[39;49m\u001b[38;5;241;43m.7\u001b[39;49m\u001b[43m,\u001b[49m\u001b[43mrandom_state\u001b[49m\u001b[38;5;241;43m=\u001b[39;49m\u001b[43mii\u001b[49m\u001b[43m,\u001b[49m\u001b[43m \u001b[49m\u001b[43mstratify\u001b[49m\u001b[38;5;241;43m=\u001b[39;49m\u001b[43my_train_\u001b[49m\u001b[43m)\u001b[49m\n\u001b[1;32m      8\u001b[0m     morf \u001b[38;5;241m=\u001b[39m PatchObliqueRandomForestClassifier(n_estimators\u001b[38;5;241m=\u001b[39m\u001b[38;5;241m1\u001b[39m, max_patch_dims\u001b[38;5;241m=\u001b[39mnp\u001b[38;5;241m.\u001b[39marray((\u001b[38;5;241m4\u001b[39m, \u001b[38;5;241m4\u001b[39m, \u001b[38;5;241m4\u001b[39m)), data_dims\u001b[38;5;241m=\u001b[39mnp\u001b[38;5;241m.\u001b[39marray((\u001b[38;5;241m113\u001b[39m, \u001b[38;5;241m137\u001b[39m, \u001b[38;5;241m113\u001b[39m)), n_jobs\u001b[38;5;241m=\u001b[39m\u001b[38;5;241m-\u001b[39m\u001b[38;5;241m1\u001b[39m)\n\u001b[1;32m      9\u001b[0m     morf\u001b[38;5;241m.\u001b[39mfit(x_train[:,:\u001b[38;5;241m113\u001b[39m\u001b[38;5;241m*\u001b[39m\u001b[38;5;241m137\u001b[39m\u001b[38;5;241m*\u001b[39m\u001b[38;5;241m113\u001b[39m], y_train)\n",
      "File \u001b[0;32m~/my_documents/cmi/lib/python3.9/site-packages/sklearn/utils/_param_validation.py:213\u001b[0m, in \u001b[0;36mvalidate_params.<locals>.decorator.<locals>.wrapper\u001b[0;34m(*args, **kwargs)\u001b[0m\n\u001b[1;32m    207\u001b[0m \u001b[38;5;28;01mtry\u001b[39;00m:\n\u001b[1;32m    208\u001b[0m     \u001b[38;5;28;01mwith\u001b[39;00m config_context(\n\u001b[1;32m    209\u001b[0m         skip_parameter_validation\u001b[38;5;241m=\u001b[39m(\n\u001b[1;32m    210\u001b[0m             prefer_skip_nested_validation \u001b[38;5;129;01mor\u001b[39;00m global_skip_validation\n\u001b[1;32m    211\u001b[0m         )\n\u001b[1;32m    212\u001b[0m     ):\n\u001b[0;32m--> 213\u001b[0m         \u001b[38;5;28;01mreturn\u001b[39;00m \u001b[43mfunc\u001b[49m\u001b[43m(\u001b[49m\u001b[38;5;241;43m*\u001b[39;49m\u001b[43margs\u001b[49m\u001b[43m,\u001b[49m\u001b[43m \u001b[49m\u001b[38;5;241;43m*\u001b[39;49m\u001b[38;5;241;43m*\u001b[39;49m\u001b[43mkwargs\u001b[49m\u001b[43m)\u001b[49m\n\u001b[1;32m    214\u001b[0m \u001b[38;5;28;01mexcept\u001b[39;00m InvalidParameterError \u001b[38;5;28;01mas\u001b[39;00m e:\n\u001b[1;32m    215\u001b[0m     \u001b[38;5;66;03m# When the function is just a wrapper around an estimator, we allow\u001b[39;00m\n\u001b[1;32m    216\u001b[0m     \u001b[38;5;66;03m# the function to delegate validation to the estimator, but we replace\u001b[39;00m\n\u001b[1;32m    217\u001b[0m     \u001b[38;5;66;03m# the name of the estimator by the name of the function in the error\u001b[39;00m\n\u001b[1;32m    218\u001b[0m     \u001b[38;5;66;03m# message to avoid confusion.\u001b[39;00m\n\u001b[1;32m    219\u001b[0m     msg \u001b[38;5;241m=\u001b[39m re\u001b[38;5;241m.\u001b[39msub(\n\u001b[1;32m    220\u001b[0m         \u001b[38;5;124mr\u001b[39m\u001b[38;5;124m\"\u001b[39m\u001b[38;5;124mparameter of \u001b[39m\u001b[38;5;124m\\\u001b[39m\u001b[38;5;124mw+ must be\u001b[39m\u001b[38;5;124m\"\u001b[39m,\n\u001b[1;32m    221\u001b[0m         \u001b[38;5;124mf\u001b[39m\u001b[38;5;124m\"\u001b[39m\u001b[38;5;124mparameter of \u001b[39m\u001b[38;5;132;01m{\u001b[39;00mfunc\u001b[38;5;241m.\u001b[39m\u001b[38;5;18m__qualname__\u001b[39m\u001b[38;5;132;01m}\u001b[39;00m\u001b[38;5;124m must be\u001b[39m\u001b[38;5;124m\"\u001b[39m,\n\u001b[1;32m    222\u001b[0m         \u001b[38;5;28mstr\u001b[39m(e),\n\u001b[1;32m    223\u001b[0m     )\n",
      "File \u001b[0;32m~/my_documents/cmi/lib/python3.9/site-packages/sklearn/model_selection/_split.py:2683\u001b[0m, in \u001b[0;36mtrain_test_split\u001b[0;34m(test_size, train_size, random_state, shuffle, stratify, *arrays)\u001b[0m\n\u001b[1;32m   2679\u001b[0m     cv \u001b[38;5;241m=\u001b[39m CVClass(test_size\u001b[38;5;241m=\u001b[39mn_test, train_size\u001b[38;5;241m=\u001b[39mn_train, random_state\u001b[38;5;241m=\u001b[39mrandom_state)\n\u001b[1;32m   2681\u001b[0m     train, test \u001b[38;5;241m=\u001b[39m \u001b[38;5;28mnext\u001b[39m(cv\u001b[38;5;241m.\u001b[39msplit(X\u001b[38;5;241m=\u001b[39marrays[\u001b[38;5;241m0\u001b[39m], y\u001b[38;5;241m=\u001b[39mstratify))\n\u001b[0;32m-> 2683\u001b[0m \u001b[38;5;28;01mreturn\u001b[39;00m \u001b[38;5;28;43mlist\u001b[39;49m\u001b[43m(\u001b[49m\n\u001b[1;32m   2684\u001b[0m \u001b[43m    \u001b[49m\u001b[43mchain\u001b[49m\u001b[38;5;241;43m.\u001b[39;49m\u001b[43mfrom_iterable\u001b[49m\u001b[43m(\u001b[49m\n\u001b[1;32m   2685\u001b[0m \u001b[43m        \u001b[49m\u001b[43m(\u001b[49m\u001b[43m_safe_indexing\u001b[49m\u001b[43m(\u001b[49m\u001b[43ma\u001b[49m\u001b[43m,\u001b[49m\u001b[43m \u001b[49m\u001b[43mtrain\u001b[49m\u001b[43m)\u001b[49m\u001b[43m,\u001b[49m\u001b[43m \u001b[49m\u001b[43m_safe_indexing\u001b[49m\u001b[43m(\u001b[49m\u001b[43ma\u001b[49m\u001b[43m,\u001b[49m\u001b[43m \u001b[49m\u001b[43mtest\u001b[49m\u001b[43m)\u001b[49m\u001b[43m)\u001b[49m\u001b[43m \u001b[49m\u001b[38;5;28;43;01mfor\u001b[39;49;00m\u001b[43m \u001b[49m\u001b[43ma\u001b[49m\u001b[43m \u001b[49m\u001b[38;5;129;43;01min\u001b[39;49;00m\u001b[43m \u001b[49m\u001b[43marrays\u001b[49m\n\u001b[1;32m   2686\u001b[0m \u001b[43m    \u001b[49m\u001b[43m)\u001b[49m\n\u001b[1;32m   2687\u001b[0m \u001b[43m\u001b[49m\u001b[43m)\u001b[49m\n",
      "File \u001b[0;32m~/my_documents/cmi/lib/python3.9/site-packages/sklearn/model_selection/_split.py:2685\u001b[0m, in \u001b[0;36m<genexpr>\u001b[0;34m(.0)\u001b[0m\n\u001b[1;32m   2679\u001b[0m     cv \u001b[38;5;241m=\u001b[39m CVClass(test_size\u001b[38;5;241m=\u001b[39mn_test, train_size\u001b[38;5;241m=\u001b[39mn_train, random_state\u001b[38;5;241m=\u001b[39mrandom_state)\n\u001b[1;32m   2681\u001b[0m     train, test \u001b[38;5;241m=\u001b[39m \u001b[38;5;28mnext\u001b[39m(cv\u001b[38;5;241m.\u001b[39msplit(X\u001b[38;5;241m=\u001b[39marrays[\u001b[38;5;241m0\u001b[39m], y\u001b[38;5;241m=\u001b[39mstratify))\n\u001b[1;32m   2683\u001b[0m \u001b[38;5;28;01mreturn\u001b[39;00m \u001b[38;5;28mlist\u001b[39m(\n\u001b[1;32m   2684\u001b[0m     chain\u001b[38;5;241m.\u001b[39mfrom_iterable(\n\u001b[0;32m-> 2685\u001b[0m         (_safe_indexing(a, train), \u001b[43m_safe_indexing\u001b[49m\u001b[43m(\u001b[49m\u001b[43ma\u001b[49m\u001b[43m,\u001b[49m\u001b[43m \u001b[49m\u001b[43mtest\u001b[49m\u001b[43m)\u001b[49m) \u001b[38;5;28;01mfor\u001b[39;00m a \u001b[38;5;129;01min\u001b[39;00m arrays\n\u001b[1;32m   2686\u001b[0m     )\n\u001b[1;32m   2687\u001b[0m )\n",
      "File \u001b[0;32m~/my_documents/cmi/lib/python3.9/site-packages/sklearn/utils/__init__.py:411\u001b[0m, in \u001b[0;36m_safe_indexing\u001b[0;34m(X, indices, axis)\u001b[0m\n\u001b[1;32m    409\u001b[0m     \u001b[38;5;28;01mreturn\u001b[39;00m _polars_indexing(X, indices, indices_dtype, axis\u001b[38;5;241m=\u001b[39maxis)\n\u001b[1;32m    410\u001b[0m \u001b[38;5;28;01melif\u001b[39;00m \u001b[38;5;28mhasattr\u001b[39m(X, \u001b[38;5;124m\"\u001b[39m\u001b[38;5;124mshape\u001b[39m\u001b[38;5;124m\"\u001b[39m):\n\u001b[0;32m--> 411\u001b[0m     \u001b[38;5;28;01mreturn\u001b[39;00m \u001b[43m_array_indexing\u001b[49m\u001b[43m(\u001b[49m\u001b[43mX\u001b[49m\u001b[43m,\u001b[49m\u001b[43m \u001b[49m\u001b[43mindices\u001b[49m\u001b[43m,\u001b[49m\u001b[43m \u001b[49m\u001b[43mindices_dtype\u001b[49m\u001b[43m,\u001b[49m\u001b[43m \u001b[49m\u001b[43maxis\u001b[49m\u001b[38;5;241;43m=\u001b[39;49m\u001b[43maxis\u001b[49m\u001b[43m)\u001b[49m\n\u001b[1;32m    412\u001b[0m \u001b[38;5;28;01melse\u001b[39;00m:\n\u001b[1;32m    413\u001b[0m     \u001b[38;5;28;01mreturn\u001b[39;00m _list_indexing(X, indices, indices_dtype)\n",
      "File \u001b[0;32m~/my_documents/cmi/lib/python3.9/site-packages/sklearn/utils/__init__.py:208\u001b[0m, in \u001b[0;36m_array_indexing\u001b[0;34m(array, key, key_dtype, axis)\u001b[0m\n\u001b[1;32m    206\u001b[0m \u001b[38;5;28;01mif\u001b[39;00m \u001b[38;5;28misinstance\u001b[39m(key, \u001b[38;5;28mtuple\u001b[39m):\n\u001b[1;32m    207\u001b[0m     key \u001b[38;5;241m=\u001b[39m \u001b[38;5;28mlist\u001b[39m(key)\n\u001b[0;32m--> 208\u001b[0m \u001b[38;5;28;01mreturn\u001b[39;00m \u001b[43marray\u001b[49m\u001b[43m[\u001b[49m\u001b[43mkey\u001b[49m\u001b[43m,\u001b[49m\u001b[43m \u001b[49m\u001b[38;5;241;43m.\u001b[39;49m\u001b[38;5;241;43m.\u001b[39;49m\u001b[38;5;241;43m.\u001b[39;49m\u001b[43m]\u001b[49m \u001b[38;5;28;01mif\u001b[39;00m axis \u001b[38;5;241m==\u001b[39m \u001b[38;5;241m0\u001b[39m \u001b[38;5;28;01melse\u001b[39;00m array[:, key]\n",
      "\u001b[0;31mKeyboardInterrupt\u001b[0m: "
     ]
    }
   ],
   "source": [
    "total_models = 1000\n",
    "x_train_, x_test, y_train_, y_test = train_test_split(\n",
    "                        X, y, train_size=.8,random_state=0, stratify=y)\n",
    "for ii in tqdm(range(total_models)):\n",
    "    x_train, _, y_train, _ = train_test_split(\n",
    "                        x_train_, y_train_, train_size=.7,random_state=ii, stratify=y_train_)\n",
    "    \n",
    "    morf = PatchObliqueRandomForestClassifier(n_estimators=1, max_patch_dims=np.array((4, 4, 4)), data_dims=np.array((113, 137, 113)), n_jobs=-1)\n",
    "    morf.fit(x_train[:,:113*137*113], y_train)\n",
    "\n",
    "    with open('morf_models/model'+str(ii)+'.pickle','wb') as f:\n",
    "        pickle.dump(morf, f)\n",
    "\n",
    "    del morf"
   ]
  },
  {
   "cell_type": "code",
   "execution_count": 13,
   "id": "65c32e62-2dbe-46d7-bed8-450d155f7ea6",
   "metadata": {},
   "outputs": [
    {
     "name": "stdout",
     "output_type": "stream",
     "text": [
      "MORF accuracy 0.8642533936651584\n"
     ]
    }
   ],
   "source": [
    "x_train_, x_test, y_train_, y_test = train_test_split(\n",
    "                        X, y, train_size=.8,random_state=0, stratify=y)\n",
    "\n",
    "predicted_proba_ = []\n",
    "total_models = 650\n",
    "for ii in tqdm(range(total_models)):\n",
    "    with open('morf_models/model'+str(ii)+'.pickle','rb') as f:\n",
    "        morf = pickle.load(f)\n",
    "        predicted_proba_.append(\n",
    "            morf.predict_proba(x_test[:,:113*137*113])\n",
    "        )\n",
    "        del morf\n",
    "\n",
    "predicted_proba = np.mean(predicted_proba_,axis=0)\n",
    "predicted_label = np.argmax(predicted_proba,axis=1)\n",
    "print('MORF accuracy', np.mean(predicted_label==y_test))"
   ]
  },
  {
   "cell_type": "markdown",
   "id": "fa3282b8-45ed-4a4f-8c46-fad847d68400",
   "metadata": {},
   "source": [
    "## Train MORF with shuffled label"
   ]
  },
  {
   "cell_type": "code",
   "execution_count": 14,
   "id": "b6e75748-bae6-40ac-a441-b59b11d17fe6",
   "metadata": {},
   "outputs": [
    {
     "name": "stderr",
     "output_type": "stream",
     "text": [
      "100%|██████████████████████████████████████████████████████████| 650/650 [13:46:30<00:00, 76.29s/it]\n"
     ]
    }
   ],
   "source": [
    "total_models = 650\n",
    "x_train_, x_test, y_train_, y_test = train_test_split(\n",
    "                        X, y, train_size=.8,random_state=0, stratify=y)\n",
    "for ii in tqdm(range(total_models)):\n",
    "    x_train, _, y_train, _ = train_test_split(\n",
    "                        x_train_, y_train_, train_size=.7,random_state=ii, stratify=y_train_)\n",
    "\n",
    "    random.shuffle(y_train)\n",
    "    morf = PatchObliqueRandomForestClassifier(n_estimators=1, max_patch_dims=np.array((4, 4, 4)), data_dims=np.array((113, 137, 113)), n_jobs=-1)\n",
    "    morf.fit(x_train[:,:113*137*113], y_train)\n",
    "\n",
    "    with open('morf_shuffled_models/model'+str(ii)+'.pickle','wb') as f:\n",
    "        pickle.dump(morf, f)\n",
    "\n",
    "    del morf"
   ]
  },
  {
   "cell_type": "markdown",
   "id": "a11d7bc4",
   "metadata": {},
   "source": [
    "### Find the feature importance"
   ]
  },
  {
   "cell_type": "code",
   "execution_count": 5,
   "id": "a2537ed0",
   "metadata": {},
   "outputs": [
    {
     "name": "stderr",
     "output_type": "stream",
     "text": [
      "100%|████████████████████████████████████████████████| 100/100 [1:54:11<00:00, 68.51s/it]\n",
      "100%|████████████████████████████████████████████████| 100/100 [2:41:10<00:00, 96.70s/it]\n"
     ]
    }
   ],
   "source": [
    "total_models = 100\n",
    "feature_imp = []\n",
    "for ii in tqdm(range(total_models)):\n",
    "    with open('morf_models/model'+str(ii)+'.pickle','rb') as f:\n",
    "        morf = pickle.load(f)\n",
    "        feature_imp.append(\n",
    "            morf.feature_importances_\n",
    "        )\n",
    "        del morf\n",
    "\n",
    "for ii in tqdm(range(total_models)):\n",
    "    with open('morf_shuffled_models/model'+str(ii)+'.pickle','rb') as f:\n",
    "        morf = pickle.load(f)\n",
    "        feature_imp.append(\n",
    "            morf.feature_importances_\n",
    "        )\n",
    "        del morf"
   ]
  },
  {
   "cell_type": "code",
   "execution_count": 6,
   "id": "5569080b-c714-4226-b0bc-fdcee3e718f6",
   "metadata": {},
   "outputs": [],
   "source": [
    "feature_imp = np.array(feature_imp)"
   ]
  },
  {
   "cell_type": "code",
   "execution_count": 45,
   "id": "18226443-3eb2-4c50-8001-3888ea02feb8",
   "metadata": {},
   "outputs": [
    {
     "name": "stderr",
     "output_type": "stream",
     "text": [
      "100%|██████████████████████████████████████████████| 1000/1000 [3:19:51<00:00, 11.99s/it]\n"
     ]
    }
   ],
   "source": [
    "reps = 1000\n",
    "\n",
    "stat = np.zeros(len(feature_imp[0]))\n",
    "for ii in range(total_models):\n",
    "    r = ss.rankdata(\n",
    "            1-feature_imp[ii], method='max'\n",
    "        )\n",
    "    r_0 = ss.rankdata(\n",
    "            1-feature_imp[total_models+ii], method='max'\n",
    "        )\n",
    "\n",
    "    stat += (r_0 > r)*1\n",
    "\n",
    "count = np.zeros(len(feature_imp[0]))\n",
    "for _ in tqdm(range(reps)):\n",
    "    idx = list(range(2*total_models))\n",
    "    random.shuffle(idx)\n",
    "    stat1 = np.zeros(len(feature_imp[0]))\n",
    "    \n",
    "    for ii in range(total_models):\n",
    "        r1 = ss.rankdata(\n",
    "                1-feature_imp[idx[ii]], method='max'\n",
    "            )\n",
    "        r1_0 = ss.rankdata(\n",
    "                1-feature_imp[idx[total_models+ii]], method='max'\n",
    "            )\n",
    "    \n",
    "        stat1 += (r1_0 > r1)*1\n",
    "        \n",
    "    count += (stat1>=stat)*1\n",
    "\n",
    "p_val = (1 + count)/(1+reps)"
   ]
  },
  {
   "cell_type": "code",
   "execution_count": 64,
   "id": "c226433b-c63f-424d-9cad-d43e9cdf600e",
   "metadata": {},
   "outputs": [],
   "source": [
    "'''id_accept = np.where(p_val>0.05)[0]\n",
    "id_reject = np.where(p_val<=0.05)[0]\n",
    "\n",
    "feature_map = np.zeros(len(feature_imp[0]))\n",
    "feature_map[id_reject] = 1'''\n",
    "feature_map = -np.log(p_val)"
   ]
  },
  {
   "cell_type": "code",
   "execution_count": 65,
   "id": "f5007a7e-5256-48e7-9049-71c444cef9a0",
   "metadata": {},
   "outputs": [],
   "source": [
    "demo_filepath_whitematter = '/cis/home/jdey4/data_MRI/sub-A00008326/mri/mwp2sub-A00008326_T1w.nii'\n",
    "demo_filepath_graymatter = '/cis/home/jdey4/data_MRI/sub-A00008326/mri/mwp1sub-A00008326_T1w.nii'\n",
    "\n",
    "img_whitematter = nb.load(demo_filepath_whitematter).get_fdata()\n",
    "img_graymatter = nb.load(demo_filepath_graymatter).get_fdata()"
   ]
  },
  {
   "cell_type": "code",
   "execution_count": 66,
   "id": "af2eb6ee-ed2b-4fd1-9ad0-8cc50aabe18c",
   "metadata": {},
   "outputs": [],
   "source": [
    "brain_img = feature_map.reshape(113,137,113)"
   ]
  },
  {
   "cell_type": "code",
   "execution_count": 72,
   "id": "f2171f45-62d8-45b6-afcf-00a003fbef2c",
   "metadata": {},
   "outputs": [
    {
     "data": {
      "text/plain": [
       "Text(0.5, 1.0, 'gray matter (Traverse)')"
      ]
     },
     "execution_count": 72,
     "metadata": {},
     "output_type": "execute_result"
    },
    {
     "data": {
      "image/png": "[encoded data removed]",
      "text/plain": [
       "<Figure size 1600x800 with 2 Axes>"
      ]
     },
     "metadata": {},
     "output_type": "display_data"
    }
   ],
   "source": [
    "slice = 35\n",
    "\n",
    "sliced_img_whitematter = img_whitematter[:,:,slice]\n",
    "sliced_img_graymatter = img_graymatter[:,:,slice]\n",
    "\n",
    "fig, ax = plt.subplots(1,2, figsize=(16,8))\n",
    "ax[0].imshow(brain_img[:,:,slice])\n",
    "ax[1].imshow(sliced_img_graymatter)\n",
    "\n",
    "ax[0].set_title('MORF feature importance)', fontsize=20)\n",
    "ax[1].set_title('gray matter (Traverse)', fontsize=20)"
   ]
  },
  {
   "cell_type": "code",
   "execution_count": 53,
   "id": "e2db63c6-e211-4c57-b493-6e6c73b034ac",
   "metadata": {},
   "outputs": [],
   "source": [
    "img_white = nb.load(demo_filepath_whitematter)\n",
    "img = nb.Nifti1Image(brain_img, header = img_white.header, affine = img_white.affine)\n",
    "\n",
    "nb.save(img, 'feature_imp_rank.nii')"
   ]
  },
  {
   "cell_type": "code",
   "execution_count": null,
   "id": "6526af4e-25c0-46a1-93fc-249e2b793e5e",
   "metadata": {},
   "outputs": [],
   "source": []
  }
 ],
 "metadata": {
  "kernelspec": {
   "display_name": "Python 3 (ipykernel)",
   "language": "python",
   "name": "python3"
  },
  "language_info": {
   "codemirror_mode": {
    "name": "ipython",
    "version": 3
   },
   "file_extension": ".py",
   "mimetype": "text/x-python",
   "name": "python",
   "nbconvert_exporter": "python",
   "pygments_lexer": "ipython3",
   "version": "3.9.12"
  }
 },
 "nbformat": 4,
 "nbformat_minor": 5
}
